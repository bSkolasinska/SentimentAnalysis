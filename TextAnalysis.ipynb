{
 "cells": [
  {
   "cell_type": "code",
   "execution_count": 174,
   "metadata": {},
   "outputs": [],
   "source": [
    "import pandas as pd\n",
    "import os\n",
    "import sys\n",
    "module_path = os.path.abspath(os.path.join('/Users/balbi/Downloads/pyMorfologik-master'))\n",
    "if module_path not in sys.path:\n",
    "    sys.path.append(module_path)\n",
    "from pymorfologik import Morfologik\n",
    "from pymorfologik.parsing import ListParser"
   ]
  },
  {
   "cell_type": "code",
   "execution_count": 175,
   "metadata": {},
   "outputs": [],
   "source": [
    "def lemmatisation(text):\n",
    "    parser = ListParser()\n",
    "    stemmer = Morfologik()\n",
    "    stemming = stemmer.stem([text], parser)\n",
    "    words_list = list()\n",
    "    for s in stemming:\n",
    "        for i in s:\n",
    "            for l in i:\n",
    "                if(len(l) > 1):\n",
    "                    words_list.append(l)\n",
    "    return words_list"
   ]
  },
  {
   "cell_type": "code",
   "execution_count": 176,
   "metadata": {},
   "outputs": [],
   "source": [
    "emotions = pd.read_csv('emotionsTable.csv')\n",
    "def detectingEmotionsInText(text):\n",
    "    charToRemove= str.maketrans(dict.fromkeys('!@#$?.:,'))\n",
    "    words_list = lemmatisation(text)\n",
    "    numberOfWords = len(words_list)\n",
    "    emotionsCounter = 0\n",
    "    words = pd.DataFrame()\n",
    "    for el in words_list: \n",
    "        el = el.translate(charToRemove);\n",
    "        data = emotions[emotions['word'] == el]\n",
    "        words = words.append(data, ignore_index=True)  \n",
    "        words = words.drop_duplicates('word')\n",
    "    print(words)\n",
    "    emotionsCounter = words['sentiment'].sum()\n",
    "    result = emotionsCounter/numberOfWords\n",
    "    return result"
   ]
  },
  {
   "cell_type": "code",
   "execution_count": 177,
   "metadata": {},
   "outputs": [],
   "source": [
    "def getEmotionStatusOfText():\n",
    "    if(result < 0):\n",
    "        print('nagatywny')\n",
    "    elif(result > 0):\n",
    "        print('pozytywny')\n",
    "    else:\n",
    "        print('neutralny')"
   ]
  },
  {
   "cell_type": "code",
   "execution_count": 178,
   "metadata": {
    "scrolled": true
   },
   "outputs": [
    {
     "name": "stdout",
     "output_type": "stream",
     "text": [
      "   sentiment        word\n",
      "0       -1.0     warzywo\n",
      "1       -2.0   karygodny\n",
      "2       -2.0  bestialski\n",
      "nagatywny\n"
     ]
    }
   ],
   "source": [
    "detectingEmotionsInText('Uważam że zmuszanie dzieci do jedzenia warzyw jest karygodne oraz bestialskie')\n",
    "getEmotionStatusOfText()"
   ]
  },
  {
   "cell_type": "code",
   "execution_count": null,
   "metadata": {},
   "outputs": [],
   "source": []
  },
  {
   "cell_type": "code",
   "execution_count": null,
   "metadata": {},
   "outputs": [],
   "source": []
  },
  {
   "cell_type": "code",
   "execution_count": null,
   "metadata": {},
   "outputs": [],
   "source": []
  },
  {
   "cell_type": "code",
   "execution_count": null,
   "metadata": {},
   "outputs": [],
   "source": []
  },
  {
   "cell_type": "code",
   "execution_count": null,
   "metadata": {},
   "outputs": [],
   "source": []
  },
  {
   "cell_type": "code",
   "execution_count": null,
   "metadata": {},
   "outputs": [],
   "source": []
  },
  {
   "cell_type": "code",
   "execution_count": null,
   "metadata": {},
   "outputs": [],
   "source": []
  },
  {
   "cell_type": "code",
   "execution_count": null,
   "metadata": {},
   "outputs": [],
   "source": []
  },
  {
   "cell_type": "code",
   "execution_count": null,
   "metadata": {},
   "outputs": [],
   "source": []
  },
  {
   "cell_type": "code",
   "execution_count": null,
   "metadata": {},
   "outputs": [],
   "source": []
  }
 ],
 "metadata": {
  "kernelspec": {
   "display_name": "Python 3",
   "language": "python",
   "name": "python3"
  },
  "language_info": {
   "codemirror_mode": {
    "name": "ipython",
    "version": 3
   },
   "file_extension": ".py",
   "mimetype": "text/x-python",
   "name": "python",
   "nbconvert_exporter": "python",
   "pygments_lexer": "ipython3",
   "version": "3.6.4"
  }
 },
 "nbformat": 4,
 "nbformat_minor": 2
}
